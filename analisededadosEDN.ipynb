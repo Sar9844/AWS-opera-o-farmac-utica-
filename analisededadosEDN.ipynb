{
  "nbformat": 4,
  "nbformat_minor": 0,
  "metadata": {
    "colab": {
      "provenance": [],
      "include_colab_link": true
    },
    "kernelspec": {
      "name": "python3",
      "display_name": "Python 3"
    },
    "language_info": {
      "name": "python"
    }
  },
  "cells": [
    {
      "cell_type": "markdown",
      "metadata": {
        "id": "view-in-github",
        "colab_type": "text"
      },
      "source": [
        "<a href=\"https://colab.research.google.com/github/Sar9844/AWS-opera-o-farmac-utica-/blob/main/analisededadosEDN.ipynb\" target=\"_parent\"><img src=\"https://colab.research.google.com/assets/colab-badge.svg\" alt=\"Open In Colab\"/></a>"
      ]
    },
    {
      "cell_type": "markdown",
      "source": [
        "Importa o pandas, biblioteca padrão do Python para análise de dados em formato de tabela (DataFrames)."
      ],
      "metadata": {
        "id": "X-IIEpUYptj2"
      }
    },
    {
      "cell_type": "code",
      "source": [
        "import pandas as pd"
      ],
      "metadata": {
        "id": "bwZs6PGxnUje"
      },
      "execution_count": 1,
      "outputs": []
    },
    {
      "cell_type": "markdown",
      "source": [
        " Lê a planilha Página1 do arquivo Excel e ignora a primeira linha que tem títulos soltos. Os dados úteis começam na segunda linha."
      ],
      "metadata": {
        "id": "zb04llZ_pyCL"
      }
    },
    {
      "cell_type": "code",
      "source": [
        "# Leitura dos dados\n",
        "df = pd.read_excel(\"analisededados.xlsx\", sheet_name=\"Página1\", skiprows=1)"
      ],
      "metadata": {
        "id": "PSmmWkqkoMId"
      },
      "execution_count": 2,
      "outputs": []
    },
    {
      "cell_type": "markdown",
      "source": [
        " Dá nomes simples e limpos para as colunas:\n",
        "\n",
        "Idade: Idade do cliente\n",
        "\n",
        "Produto: Produto comprado\n",
        "\n",
        "Horario: Hora da compra"
      ],
      "metadata": {
        "id": "bj_BE1DPpxZ7"
      }
    },
    {
      "cell_type": "code",
      "source": [
        "df.columns = [\"Idade\", \"Produto\", \"Horario\"]"
      ],
      "metadata": {
        "id": "0dvaUlf2oO5e"
      },
      "execution_count": 3,
      "outputs": []
    },
    {
      "cell_type": "markdown",
      "source": [
        " Converte a coluna \"Horario\" de string (texto) para o tipo hora, usando o formato padrão de hora (HH:MM:SS).\n",
        "\n",
        " Isso permite trabalhar com horas em cálculos e classificações."
      ],
      "metadata": {
        "id": "UuIpc1eDp9Uu"
      }
    },
    {
      "cell_type": "code",
      "source": [
        "# Converter o horário para datetime\n",
        "df[\"Horario\"] = pd.to_datetime(df[\"Horario\"], format=\"%H:%M:%S\").dt.time"
      ],
      "metadata": {
        "id": "l2cfzcGPoUKN"
      },
      "execution_count": 4,
      "outputs": []
    },
    {
      "cell_type": "code",
      "source": [
        "df"
      ],
      "metadata": {
        "colab": {
          "base_uri": "https://localhost:8080/",
          "height": 423
        },
        "id": "8cFp8wzypFJW",
        "outputId": "f54fc840-f387-4a05-f28a-b7f888502908"
      },
      "execution_count": 5,
      "outputs": [
        {
          "output_type": "execute_result",
          "data": {
            "text/plain": [
              "      Idade           Produto   Horario\n",
              "0        19        Smartwatch  18:00:00\n",
              "1        35        Smartwatch  20:45:00\n",
              "2        27        Smartwatch  04:00:00\n",
              "3        42        Smartphone  15:15:00\n",
              "4        41  Teclado Mecânico  21:00:00\n",
              "...     ...               ...       ...\n",
              "999      27  Teclado Mecânico  03:45:00\n",
              "1000     41        Smartwatch  23:45:00\n",
              "1001     27  Teclado Mecânico  20:15:00\n",
              "1002     46  Teclado Mecânico  16:30:00\n",
              "1003     45          Notebook  15:45:00\n",
              "\n",
              "[1004 rows x 3 columns]"
            ],
            "text/html": [
              "\n",
              "  <div id=\"df-8cb93055-44ae-46a6-9e9f-dc4372ddccba\" class=\"colab-df-container\">\n",
              "    <div>\n",
              "<style scoped>\n",
              "    .dataframe tbody tr th:only-of-type {\n",
              "        vertical-align: middle;\n",
              "    }\n",
              "\n",
              "    .dataframe tbody tr th {\n",
              "        vertical-align: top;\n",
              "    }\n",
              "\n",
              "    .dataframe thead th {\n",
              "        text-align: right;\n",
              "    }\n",
              "</style>\n",
              "<table border=\"1\" class=\"dataframe\">\n",
              "  <thead>\n",
              "    <tr style=\"text-align: right;\">\n",
              "      <th></th>\n",
              "      <th>Idade</th>\n",
              "      <th>Produto</th>\n",
              "      <th>Horario</th>\n",
              "    </tr>\n",
              "  </thead>\n",
              "  <tbody>\n",
              "    <tr>\n",
              "      <th>0</th>\n",
              "      <td>19</td>\n",
              "      <td>Smartwatch</td>\n",
              "      <td>18:00:00</td>\n",
              "    </tr>\n",
              "    <tr>\n",
              "      <th>1</th>\n",
              "      <td>35</td>\n",
              "      <td>Smartwatch</td>\n",
              "      <td>20:45:00</td>\n",
              "    </tr>\n",
              "    <tr>\n",
              "      <th>2</th>\n",
              "      <td>27</td>\n",
              "      <td>Smartwatch</td>\n",
              "      <td>04:00:00</td>\n",
              "    </tr>\n",
              "    <tr>\n",
              "      <th>3</th>\n",
              "      <td>42</td>\n",
              "      <td>Smartphone</td>\n",
              "      <td>15:15:00</td>\n",
              "    </tr>\n",
              "    <tr>\n",
              "      <th>4</th>\n",
              "      <td>41</td>\n",
              "      <td>Teclado Mecânico</td>\n",
              "      <td>21:00:00</td>\n",
              "    </tr>\n",
              "    <tr>\n",
              "      <th>...</th>\n",
              "      <td>...</td>\n",
              "      <td>...</td>\n",
              "      <td>...</td>\n",
              "    </tr>\n",
              "    <tr>\n",
              "      <th>999</th>\n",
              "      <td>27</td>\n",
              "      <td>Teclado Mecânico</td>\n",
              "      <td>03:45:00</td>\n",
              "    </tr>\n",
              "    <tr>\n",
              "      <th>1000</th>\n",
              "      <td>41</td>\n",
              "      <td>Smartwatch</td>\n",
              "      <td>23:45:00</td>\n",
              "    </tr>\n",
              "    <tr>\n",
              "      <th>1001</th>\n",
              "      <td>27</td>\n",
              "      <td>Teclado Mecânico</td>\n",
              "      <td>20:15:00</td>\n",
              "    </tr>\n",
              "    <tr>\n",
              "      <th>1002</th>\n",
              "      <td>46</td>\n",
              "      <td>Teclado Mecânico</td>\n",
              "      <td>16:30:00</td>\n",
              "    </tr>\n",
              "    <tr>\n",
              "      <th>1003</th>\n",
              "      <td>45</td>\n",
              "      <td>Notebook</td>\n",
              "      <td>15:45:00</td>\n",
              "    </tr>\n",
              "  </tbody>\n",
              "</table>\n",
              "<p>1004 rows × 3 columns</p>\n",
              "</div>\n",
              "    <div class=\"colab-df-buttons\">\n",
              "\n",
              "  <div class=\"colab-df-container\">\n",
              "    <button class=\"colab-df-convert\" onclick=\"convertToInteractive('df-8cb93055-44ae-46a6-9e9f-dc4372ddccba')\"\n",
              "            title=\"Convert this dataframe to an interactive table.\"\n",
              "            style=\"display:none;\">\n",
              "\n",
              "  <svg xmlns=\"http://www.w3.org/2000/svg\" height=\"24px\" viewBox=\"0 -960 960 960\">\n",
              "    <path d=\"M120-120v-720h720v720H120Zm60-500h600v-160H180v160Zm220 220h160v-160H400v160Zm0 220h160v-160H400v160ZM180-400h160v-160H180v160Zm440 0h160v-160H620v160ZM180-180h160v-160H180v160Zm440 0h160v-160H620v160Z\"/>\n",
              "  </svg>\n",
              "    </button>\n",
              "\n",
              "  <style>\n",
              "    .colab-df-container {\n",
              "      display:flex;\n",
              "      gap: 12px;\n",
              "    }\n",
              "\n",
              "    .colab-df-convert {\n",
              "      background-color: #E8F0FE;\n",
              "      border: none;\n",
              "      border-radius: 50%;\n",
              "      cursor: pointer;\n",
              "      display: none;\n",
              "      fill: #1967D2;\n",
              "      height: 32px;\n",
              "      padding: 0 0 0 0;\n",
              "      width: 32px;\n",
              "    }\n",
              "\n",
              "    .colab-df-convert:hover {\n",
              "      background-color: #E2EBFA;\n",
              "      box-shadow: 0px 1px 2px rgba(60, 64, 67, 0.3), 0px 1px 3px 1px rgba(60, 64, 67, 0.15);\n",
              "      fill: #174EA6;\n",
              "    }\n",
              "\n",
              "    .colab-df-buttons div {\n",
              "      margin-bottom: 4px;\n",
              "    }\n",
              "\n",
              "    [theme=dark] .colab-df-convert {\n",
              "      background-color: #3B4455;\n",
              "      fill: #D2E3FC;\n",
              "    }\n",
              "\n",
              "    [theme=dark] .colab-df-convert:hover {\n",
              "      background-color: #434B5C;\n",
              "      box-shadow: 0px 1px 3px 1px rgba(0, 0, 0, 0.15);\n",
              "      filter: drop-shadow(0px 1px 2px rgba(0, 0, 0, 0.3));\n",
              "      fill: #FFFFFF;\n",
              "    }\n",
              "  </style>\n",
              "\n",
              "    <script>\n",
              "      const buttonEl =\n",
              "        document.querySelector('#df-8cb93055-44ae-46a6-9e9f-dc4372ddccba button.colab-df-convert');\n",
              "      buttonEl.style.display =\n",
              "        google.colab.kernel.accessAllowed ? 'block' : 'none';\n",
              "\n",
              "      async function convertToInteractive(key) {\n",
              "        const element = document.querySelector('#df-8cb93055-44ae-46a6-9e9f-dc4372ddccba');\n",
              "        const dataTable =\n",
              "          await google.colab.kernel.invokeFunction('convertToInteractive',\n",
              "                                                    [key], {});\n",
              "        if (!dataTable) return;\n",
              "\n",
              "        const docLinkHtml = 'Like what you see? Visit the ' +\n",
              "          '<a target=\"_blank\" href=https://colab.research.google.com/notebooks/data_table.ipynb>data table notebook</a>'\n",
              "          + ' to learn more about interactive tables.';\n",
              "        element.innerHTML = '';\n",
              "        dataTable['output_type'] = 'display_data';\n",
              "        await google.colab.output.renderOutput(dataTable, element);\n",
              "        const docLink = document.createElement('div');\n",
              "        docLink.innerHTML = docLinkHtml;\n",
              "        element.appendChild(docLink);\n",
              "      }\n",
              "    </script>\n",
              "  </div>\n",
              "\n",
              "\n",
              "    <div id=\"df-eba43f38-5d99-41b7-af2c-3283bb95905e\">\n",
              "      <button class=\"colab-df-quickchart\" onclick=\"quickchart('df-eba43f38-5d99-41b7-af2c-3283bb95905e')\"\n",
              "                title=\"Suggest charts\"\n",
              "                style=\"display:none;\">\n",
              "\n",
              "<svg xmlns=\"http://www.w3.org/2000/svg\" height=\"24px\"viewBox=\"0 0 24 24\"\n",
              "     width=\"24px\">\n",
              "    <g>\n",
              "        <path d=\"M19 3H5c-1.1 0-2 .9-2 2v14c0 1.1.9 2 2 2h14c1.1 0 2-.9 2-2V5c0-1.1-.9-2-2-2zM9 17H7v-7h2v7zm4 0h-2V7h2v10zm4 0h-2v-4h2v4z\"/>\n",
              "    </g>\n",
              "</svg>\n",
              "      </button>\n",
              "\n",
              "<style>\n",
              "  .colab-df-quickchart {\n",
              "      --bg-color: #E8F0FE;\n",
              "      --fill-color: #1967D2;\n",
              "      --hover-bg-color: #E2EBFA;\n",
              "      --hover-fill-color: #174EA6;\n",
              "      --disabled-fill-color: #AAA;\n",
              "      --disabled-bg-color: #DDD;\n",
              "  }\n",
              "\n",
              "  [theme=dark] .colab-df-quickchart {\n",
              "      --bg-color: #3B4455;\n",
              "      --fill-color: #D2E3FC;\n",
              "      --hover-bg-color: #434B5C;\n",
              "      --hover-fill-color: #FFFFFF;\n",
              "      --disabled-bg-color: #3B4455;\n",
              "      --disabled-fill-color: #666;\n",
              "  }\n",
              "\n",
              "  .colab-df-quickchart {\n",
              "    background-color: var(--bg-color);\n",
              "    border: none;\n",
              "    border-radius: 50%;\n",
              "    cursor: pointer;\n",
              "    display: none;\n",
              "    fill: var(--fill-color);\n",
              "    height: 32px;\n",
              "    padding: 0;\n",
              "    width: 32px;\n",
              "  }\n",
              "\n",
              "  .colab-df-quickchart:hover {\n",
              "    background-color: var(--hover-bg-color);\n",
              "    box-shadow: 0 1px 2px rgba(60, 64, 67, 0.3), 0 1px 3px 1px rgba(60, 64, 67, 0.15);\n",
              "    fill: var(--button-hover-fill-color);\n",
              "  }\n",
              "\n",
              "  .colab-df-quickchart-complete:disabled,\n",
              "  .colab-df-quickchart-complete:disabled:hover {\n",
              "    background-color: var(--disabled-bg-color);\n",
              "    fill: var(--disabled-fill-color);\n",
              "    box-shadow: none;\n",
              "  }\n",
              "\n",
              "  .colab-df-spinner {\n",
              "    border: 2px solid var(--fill-color);\n",
              "    border-color: transparent;\n",
              "    border-bottom-color: var(--fill-color);\n",
              "    animation:\n",
              "      spin 1s steps(1) infinite;\n",
              "  }\n",
              "\n",
              "  @keyframes spin {\n",
              "    0% {\n",
              "      border-color: transparent;\n",
              "      border-bottom-color: var(--fill-color);\n",
              "      border-left-color: var(--fill-color);\n",
              "    }\n",
              "    20% {\n",
              "      border-color: transparent;\n",
              "      border-left-color: var(--fill-color);\n",
              "      border-top-color: var(--fill-color);\n",
              "    }\n",
              "    30% {\n",
              "      border-color: transparent;\n",
              "      border-left-color: var(--fill-color);\n",
              "      border-top-color: var(--fill-color);\n",
              "      border-right-color: var(--fill-color);\n",
              "    }\n",
              "    40% {\n",
              "      border-color: transparent;\n",
              "      border-right-color: var(--fill-color);\n",
              "      border-top-color: var(--fill-color);\n",
              "    }\n",
              "    60% {\n",
              "      border-color: transparent;\n",
              "      border-right-color: var(--fill-color);\n",
              "    }\n",
              "    80% {\n",
              "      border-color: transparent;\n",
              "      border-right-color: var(--fill-color);\n",
              "      border-bottom-color: var(--fill-color);\n",
              "    }\n",
              "    90% {\n",
              "      border-color: transparent;\n",
              "      border-bottom-color: var(--fill-color);\n",
              "    }\n",
              "  }\n",
              "</style>\n",
              "\n",
              "      <script>\n",
              "        async function quickchart(key) {\n",
              "          const quickchartButtonEl =\n",
              "            document.querySelector('#' + key + ' button');\n",
              "          quickchartButtonEl.disabled = true;  // To prevent multiple clicks.\n",
              "          quickchartButtonEl.classList.add('colab-df-spinner');\n",
              "          try {\n",
              "            const charts = await google.colab.kernel.invokeFunction(\n",
              "                'suggestCharts', [key], {});\n",
              "          } catch (error) {\n",
              "            console.error('Error during call to suggestCharts:', error);\n",
              "          }\n",
              "          quickchartButtonEl.classList.remove('colab-df-spinner');\n",
              "          quickchartButtonEl.classList.add('colab-df-quickchart-complete');\n",
              "        }\n",
              "        (() => {\n",
              "          let quickchartButtonEl =\n",
              "            document.querySelector('#df-eba43f38-5d99-41b7-af2c-3283bb95905e button');\n",
              "          quickchartButtonEl.style.display =\n",
              "            google.colab.kernel.accessAllowed ? 'block' : 'none';\n",
              "        })();\n",
              "      </script>\n",
              "    </div>\n",
              "\n",
              "  <div id=\"id_621c989a-e9ab-4632-b222-9bbce6c09c49\">\n",
              "    <style>\n",
              "      .colab-df-generate {\n",
              "        background-color: #E8F0FE;\n",
              "        border: none;\n",
              "        border-radius: 50%;\n",
              "        cursor: pointer;\n",
              "        display: none;\n",
              "        fill: #1967D2;\n",
              "        height: 32px;\n",
              "        padding: 0 0 0 0;\n",
              "        width: 32px;\n",
              "      }\n",
              "\n",
              "      .colab-df-generate:hover {\n",
              "        background-color: #E2EBFA;\n",
              "        box-shadow: 0px 1px 2px rgba(60, 64, 67, 0.3), 0px 1px 3px 1px rgba(60, 64, 67, 0.15);\n",
              "        fill: #174EA6;\n",
              "      }\n",
              "\n",
              "      [theme=dark] .colab-df-generate {\n",
              "        background-color: #3B4455;\n",
              "        fill: #D2E3FC;\n",
              "      }\n",
              "\n",
              "      [theme=dark] .colab-df-generate:hover {\n",
              "        background-color: #434B5C;\n",
              "        box-shadow: 0px 1px 3px 1px rgba(0, 0, 0, 0.15);\n",
              "        filter: drop-shadow(0px 1px 2px rgba(0, 0, 0, 0.3));\n",
              "        fill: #FFFFFF;\n",
              "      }\n",
              "    </style>\n",
              "    <button class=\"colab-df-generate\" onclick=\"generateWithVariable('df')\"\n",
              "            title=\"Generate code using this dataframe.\"\n",
              "            style=\"display:none;\">\n",
              "\n",
              "  <svg xmlns=\"http://www.w3.org/2000/svg\" height=\"24px\"viewBox=\"0 0 24 24\"\n",
              "       width=\"24px\">\n",
              "    <path d=\"M7,19H8.4L18.45,9,17,7.55,7,17.6ZM5,21V16.75L18.45,3.32a2,2,0,0,1,2.83,0l1.4,1.43a1.91,1.91,0,0,1,.58,1.4,1.91,1.91,0,0,1-.58,1.4L9.25,21ZM18.45,9,17,7.55Zm-12,3A5.31,5.31,0,0,0,4.9,8.1,5.31,5.31,0,0,0,1,6.5,5.31,5.31,0,0,0,4.9,4.9,5.31,5.31,0,0,0,6.5,1,5.31,5.31,0,0,0,8.1,4.9,5.31,5.31,0,0,0,12,6.5,5.46,5.46,0,0,0,6.5,12Z\"/>\n",
              "  </svg>\n",
              "    </button>\n",
              "    <script>\n",
              "      (() => {\n",
              "      const buttonEl =\n",
              "        document.querySelector('#id_621c989a-e9ab-4632-b222-9bbce6c09c49 button.colab-df-generate');\n",
              "      buttonEl.style.display =\n",
              "        google.colab.kernel.accessAllowed ? 'block' : 'none';\n",
              "\n",
              "      buttonEl.onclick = () => {\n",
              "        google.colab.notebook.generateWithVariable('df');\n",
              "      }\n",
              "      })();\n",
              "    </script>\n",
              "  </div>\n",
              "\n",
              "    </div>\n",
              "  </div>\n"
            ],
            "application/vnd.google.colaboratory.intrinsic+json": {
              "type": "dataframe",
              "variable_name": "df",
              "summary": "{\n  \"name\": \"df\",\n  \"rows\": 1004,\n  \"fields\": [\n    {\n      \"column\": \"Idade\",\n      \"properties\": {\n        \"dtype\": \"number\",\n        \"std\": 13,\n        \"min\": 18,\n        \"max\": 65,\n        \"num_unique_values\": 30,\n        \"samples\": [\n          33,\n          39,\n          18\n        ],\n        \"semantic_type\": \"\",\n        \"description\": \"\"\n      }\n    },\n    {\n      \"column\": \"Produto\",\n      \"properties\": {\n        \"dtype\": \"category\",\n        \"num_unique_values\": 5,\n        \"samples\": [\n          \"Smartphone\",\n          \"Notebook\",\n          \"Teclado Mec\\u00e2nico\"\n        ],\n        \"semantic_type\": \"\",\n        \"description\": \"\"\n      }\n    },\n    {\n      \"column\": \"Horario\",\n      \"properties\": {\n        \"dtype\": \"category\",\n        \"num_unique_values\": 41,\n        \"samples\": [\n          \"01:00:00\",\n          \"16:00:00\",\n          \"08:45:00\"\n        ],\n        \"semantic_type\": \"\",\n        \"description\": \"\"\n      }\n    }\n  ]\n}"
            }
          },
          "metadata": {},
          "execution_count": 5
        }
      ]
    },
    {
      "cell_type": "markdown",
      "source": [
        " A função classificar_periodo pega a hora de uma compra e classifica em:\n",
        "\n",
        "Madrugada: 00h–06h\n",
        "\n",
        "Manhã: 06h–12h\n",
        "\n",
        "Tarde: 12h–18h\n",
        "\n",
        "Noite: 18h–24h\n"
      ],
      "metadata": {
        "id": "tGtWlfHjqGnH"
      }
    },
    {
      "cell_type": "code",
      "source": [
        "# Criar períodos do dia\n",
        "def classificar_periodo(horario):\n",
        "    h = horario.hour\n",
        "    if 6 <= h < 12:\n",
        "        return \"Manhã\"\n",
        "    elif 12 <= h < 18:\n",
        "        return \"Tarde\"\n",
        "    elif 18 <= h < 24:\n",
        "        return \"Noite\"\n",
        "    else:\n",
        "        return \"Madrugada\""
      ],
      "metadata": {
        "id": "1dwT1T7UoZDL"
      },
      "execution_count": 6,
      "outputs": []
    },
    {
      "cell_type": "markdown",
      "source": [
        "O .apply() aplica essa função em cada linha da coluna Horario."
      ],
      "metadata": {
        "id": "vn_ccScYqOEq"
      }
    },
    {
      "cell_type": "code",
      "source": [
        "df[\"Periodo\"] = df[\"Horario\"].apply(lambda x: classificar_periodo(pd.to_datetime(str(x))))"
      ],
      "metadata": {
        "id": "gzeyXJJZodOL"
      },
      "execution_count": 7,
      "outputs": []
    },
    {
      "cell_type": "markdown",
      "source": [
        "Mostra um resumo com o número total de compras em cada período do dia.\n",
        "\n",
        " É útil para ver qual faixa horária tem mais atividade."
      ],
      "metadata": {
        "id": "Fh0tJaYGqiBY"
      }
    },
    {
      "cell_type": "code",
      "source": [
        "# Exemplo: Quantas compras por período\n",
        "df[\"Periodo\"].value_counts()"
      ],
      "metadata": {
        "colab": {
          "base_uri": "https://localhost:8080/",
          "height": 241
        },
        "id": "tasTS6Qeogut",
        "outputId": "8d407549-3e36-4e97-8712-52f435569543"
      },
      "execution_count": 8,
      "outputs": [
        {
          "output_type": "execute_result",
          "data": {
            "text/plain": [
              "Periodo\n",
              "Tarde        321\n",
              "Noite        301\n",
              "Madrugada    242\n",
              "Manhã        140\n",
              "Name: count, dtype: int64"
            ],
            "text/html": [
              "<div>\n",
              "<style scoped>\n",
              "    .dataframe tbody tr th:only-of-type {\n",
              "        vertical-align: middle;\n",
              "    }\n",
              "\n",
              "    .dataframe tbody tr th {\n",
              "        vertical-align: top;\n",
              "    }\n",
              "\n",
              "    .dataframe thead th {\n",
              "        text-align: right;\n",
              "    }\n",
              "</style>\n",
              "<table border=\"1\" class=\"dataframe\">\n",
              "  <thead>\n",
              "    <tr style=\"text-align: right;\">\n",
              "      <th></th>\n",
              "      <th>count</th>\n",
              "    </tr>\n",
              "    <tr>\n",
              "      <th>Periodo</th>\n",
              "      <th></th>\n",
              "    </tr>\n",
              "  </thead>\n",
              "  <tbody>\n",
              "    <tr>\n",
              "      <th>Tarde</th>\n",
              "      <td>321</td>\n",
              "    </tr>\n",
              "    <tr>\n",
              "      <th>Noite</th>\n",
              "      <td>301</td>\n",
              "    </tr>\n",
              "    <tr>\n",
              "      <th>Madrugada</th>\n",
              "      <td>242</td>\n",
              "    </tr>\n",
              "    <tr>\n",
              "      <th>Manhã</th>\n",
              "      <td>140</td>\n",
              "    </tr>\n",
              "  </tbody>\n",
              "</table>\n",
              "</div><br><label><b>dtype:</b> int64</label>"
            ]
          },
          "metadata": {},
          "execution_count": 8
        }
      ]
    },
    {
      "cell_type": "markdown",
      "source": [
        "Agrupa os clientes em faixas etárias:\n",
        "\n",
        "até 20 anos\n",
        "\n",
        "21 a 30\n",
        "\n",
        "31 a 40\n",
        "\n",
        "41 a 50\n",
        "\n",
        "acima de 50\n",
        "\n",
        "Essa informação é importante para entender o comportamento por idade."
      ],
      "metadata": {
        "id": "mASYO1JXqpjo"
      }
    },
    {
      "cell_type": "code",
      "source": [
        "# Exemplo: Produto mais comprado por faixa etária\n",
        "df[\"Faixa_Etaria\"] = pd.cut(df[\"Idade\"], bins=[0, 20, 30, 40, 50, 100], labels=[\"até 20\", \"21-30\", \"31-40\", \"41-50\", \"50+\"])\n",
        "df.groupby([\"Faixa_Etaria\", \"Produto\"]).size().unstack().plot(kind='bar', stacked=True)"
      ],
      "metadata": {
        "colab": {
          "base_uri": "https://localhost:8080/",
          "height": 552
        },
        "id": "NzOgkTCyojwH",
        "outputId": "5520781f-cc72-4519-c93b-8de3451d53f7"
      },
      "execution_count": 9,
      "outputs": [
        {
          "output_type": "stream",
          "name": "stderr",
          "text": [
            "<ipython-input-9-c504ee020558>:3: FutureWarning: The default of observed=False is deprecated and will be changed to True in a future version of pandas. Pass observed=False to retain current behavior or observed=True to adopt the future default and silence this warning.\n",
            "  df.groupby([\"Faixa_Etaria\", \"Produto\"]).size().unstack().plot(kind='bar', stacked=True)\n"
          ]
        },
        {
          "output_type": "execute_result",
          "data": {
            "text/plain": [
              "<Axes: xlabel='Faixa_Etaria'>"
            ]
          },
          "metadata": {},
          "execution_count": 9
        },
        {
          "output_type": "display_data",
          "data": {
            "text/plain": [
              "<Figure size 640x480 with 1 Axes>"
            ],
            "image/png": "[encoded data removed]"
          },
          "metadata": {}
        }
      ]
    },
    {
      "cell_type": "markdown",
      "source": [
        "Aqui, estamos:\n",
        "\n",
        "Agrupando os dados por faixa etária e produto;\n",
        "\n",
        "Contando quantos clientes de cada faixa compraram cada produto;\n",
        "\n",
        "Criando um gráfico de barras empilhadas, mostrando a distribuição por idade."
      ],
      "metadata": {
        "id": "XzvNgjL9qxAM"
      }
    },
    {
      "cell_type": "markdown",
      "source": [
        "#GRÁFICOS POR HORÁRIOS"
      ],
      "metadata": {
        "id": "mvyBV0_UsI_x"
      }
    },
    {
      "cell_type": "markdown",
      "source": [
        "A distribuição de compras por faixas de horário do dia.\n",
        "\n",
        "Ajuda a descobrir horários de pico de compra, o que pode influenciar campanhas de marketing, ofertas e otimização de infraestrutura."
      ],
      "metadata": {
        "id": "wPNR4b1esgZI"
      }
    },
    {
      "cell_type": "code",
      "source": [
        "import matplotlib.pyplot as plt\n",
        "import seaborn as sns"
      ],
      "metadata": {
        "id": "5RQrVyG0sBuQ"
      },
      "execution_count": 10,
      "outputs": []
    },
    {
      "cell_type": "markdown",
      "source": [
        "Essas duas bibliotecas são fundamentais para análise de dados e visualização:\n",
        "\n",
        "matplotlib.pyplot: para criar gráficos.\n",
        "\n",
        "seaborn: uma camada mais bonita e fácil sobre matplotlib, ideal para gráficos estatísticos."
      ],
      "metadata": {
        "id": "W_hW-PQQso2O"
      }
    },
    {
      "cell_type": "code",
      "source": [
        "ordem_periodos = [\"Madrugada\", \"Manhã\", \"Tarde\", \"Noite\"]\n",
        "\n",
        "# Criar o gráfico de barras\n",
        "plt.figure(figsize=(10, 6))\n",
        "sns.countplot(data=df, x=\"Periodo\", order=ordem_periodos, palette=\"viridis\")\n",
        "plt.title(\"Quantidade de Compras por Período do Dia\")\n",
        "plt.xlabel(\"Período\")\n",
        "plt.ylabel(\"Número de Compras\")\n",
        "plt.grid(axis='y', linestyle='--', alpha=0.7)\n",
        "plt.tight_layout()\n",
        "plt.show()\n",
        "\n"
      ],
      "metadata": {
        "colab": {
          "base_uri": "https://localhost:8080/",
          "height": 694
        },
        "id": "nFGRU3lHr3xa",
        "outputId": "58ed6544-23f8-4674-efd3-752d72401790"
      },
      "execution_count": 11,
      "outputs": [
        {
          "output_type": "stream",
          "name": "stderr",
          "text": [
            "<ipython-input-11-2a98f3670782>:5: FutureWarning: \n",
            "\n",
            "Passing `palette` without assigning `hue` is deprecated and will be removed in v0.14.0. Assign the `x` variable to `hue` and set `legend=False` for the same effect.\n",
            "\n",
            "  sns.countplot(data=df, x=\"Periodo\", order=ordem_periodos, palette=\"viridis\")\n"
          ]
        },
        {
          "output_type": "display_data",
          "data": {
            "text/plain": [
              "<Figure size 1000x600 with 1 Axes>"
            ],
            "image/png": "[encoded data removed]"
          },
          "metadata": {}
        }
      ]
    },
    {
      "cell_type": "markdown",
      "source": [
        "plt.figure(figsize=(10, 6)): define o tamanho do gráfico.\n",
        "\n",
        "sns.countplot(...): cria um gráfico de barras que conta quantas vezes cada valor aparece na coluna Periodo.\n",
        "\n",
        "order=ordem_periodos: garante que os períodos apareçam na ordem certa (Madrugada → Noite).\n",
        "\n",
        "palette=\"viridis\": define as cores das barras (estética)."
      ],
      "metadata": {
        "id": "7jaGFdmIszd5"
      }
    },
    {
      "cell_type": "markdown",
      "source": [
        "tight_layout() ajusta tudo para caber bem.\n",
        "\n",
        "plt.show() exibe o gráfico."
      ],
      "metadata": {
        "id": "Q3sSi640snAR"
      }
    },
    {
      "cell_type": "markdown",
      "source": [
        "# RESPONDA:\n",
        "\n"
      ],
      "metadata": {
        "id": "Ai976zdHq4Dt"
      }
    },
    {
      "cell_type": "markdown",
      "source": [
        "1. Em que horário as pessoas mais compram?"
      ],
      "metadata": {
        "id": "p0FokF3HtLr3"
      }
    },
    {
      "cell_type": "markdown",
      "source": [
        "2. Qual produto é mais popular entre jovens? E entre os mais velhos?"
      ],
      "metadata": {
        "id": "AtAMkrt2tXLg"
      }
    },
    {
      "cell_type": "markdown",
      "source": [
        "3. Como o comportamento varia conforme a hora do dia?"
      ],
      "metadata": {
        "id": "Q3VbmE-wtbiJ"
      }
    },
    {
      "cell_type": "markdown",
      "source": [
        "# AGRADEÇO A PARTICIPAÇÃO DE TODOS!"
      ],
      "metadata": {
        "id": "ydT_XKDVtekC"
      }
    }
  ]
}